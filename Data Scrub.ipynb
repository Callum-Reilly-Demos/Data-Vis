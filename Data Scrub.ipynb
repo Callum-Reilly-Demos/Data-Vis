{
 "cells": [
  {
   "cell_type": "code",
   "execution_count": 1,
   "id": "94d40a41",
   "metadata": {},
   "outputs": [],
   "source": [
    "import pandas as pd\n",
    "import numpy as np"
   ]
  },
  {
   "cell_type": "code",
   "execution_count": 115,
   "id": "51e4e0fd",
   "metadata": {},
   "outputs": [],
   "source": [
    "# imports the csv file, skips first 13 rows removing prelude text\n",
    "\n",
    "df = pd.read_csv(\"table-55.csv\", skiprows=13)"
   ]
  },
  {
   "cell_type": "code",
   "execution_count": 123,
   "id": "1e749346",
   "metadata": {},
   "outputs": [
    {
     "name": "stdout",
     "output_type": "stream",
     "text": [
      "  CAH_level_marker          CAH_level_subject Level_of_qualification  \\\n",
      "0      CAH level 1  01 Medicine and dentistry                    All   \n",
      "1      CAH level 1  01 Medicine and dentistry                    All   \n",
      "2      CAH level 1  01 Medicine and dentistry                    All   \n",
      "3      CAH level 1  01 Medicine and dentistry                    All   \n",
      "4      CAH level 1  01 Medicine and dentistry                    All   \n",
      "\n",
      "  Mode_of_study Academic_Year     Age_group  Number  \n",
      "0     Full-time       2019/20  20 and under     120  \n",
      "1     Full-time       2019/20         21-24    8450  \n",
      "2     Full-time       2019/20         25-29    4825  \n",
      "3     Full-time       2019/20   30 and over    2420  \n",
      "4     Full-time       2019/20       Unknown       0  \n"
     ]
    }
   ],
   "source": [
    "#prints current version to the notebook \n",
    "print(df.head(5))"
   ]
  },
  {
   "cell_type": "code",
   "execution_count": 124,
   "id": "4a38a3fb",
   "metadata": {},
   "outputs": [],
   "source": [
    "#Gets rid of all the spacing in column names and replaces with _ for easier \n",
    "#parsing\n",
    "\n",
    "df.columns = df.columns.str.replace(' ', '_')\n"
   ]
  },
  {
   "cell_type": "code",
   "execution_count": 126,
   "id": "3d843ddc",
   "metadata": {},
   "outputs": [],
   "source": [
    "#Drops not needed colums \n",
    "\n",
    "df1 = df.drop(columns=['CAH_level_marker', 'Academic_Year'])"
   ]
  },
  {
   "cell_type": "code",
   "execution_count": 127,
   "id": "d80445c4",
   "metadata": {},
   "outputs": [
    {
     "name": "stdout",
     "output_type": "stream",
     "text": [
      "      CAH_level_marker          CAH_level_subject Level_of_qualification  \\\n",
      "0          CAH level 1  01 Medicine and dentistry                    All   \n",
      "1          CAH level 1  01 Medicine and dentistry                    All   \n",
      "2          CAH level 1  01 Medicine and dentistry                    All   \n",
      "3          CAH level 1  01 Medicine and dentistry                    All   \n",
      "4          CAH level 1  01 Medicine and dentistry                    All   \n",
      "...                ...                        ...                    ...   \n",
      "24265      CAH level 3                      Total      All undergraduate   \n",
      "24266      CAH level 3                      Total      All undergraduate   \n",
      "24267      CAH level 3                      Total      All undergraduate   \n",
      "24268      CAH level 3                      Total      All undergraduate   \n",
      "24269      CAH level 3                      Total      All undergraduate   \n",
      "\n",
      "      Mode_of_study Academic_Year     Age_group  Number  \n",
      "0         Full-time       2019/20  20 and under     120  \n",
      "1         Full-time       2019/20         21-24    8450  \n",
      "2         Full-time       2019/20         25-29    4825  \n",
      "3         Full-time       2019/20   30 and over    2420  \n",
      "4         Full-time       2019/20       Unknown       0  \n",
      "...             ...           ...           ...     ...  \n",
      "24265     Part-time       2019/20         21-24    9805  \n",
      "24266     Part-time       2019/20         25-29    8165  \n",
      "24267     Part-time       2019/20   30 and over   20850  \n",
      "24268     Part-time       2019/20       Unknown       0  \n",
      "24269     Part-time       2019/20         Total   39500  \n",
      "\n",
      "[24270 rows x 7 columns]\n"
     ]
    }
   ],
   "source": [
    "print(df)"
   ]
  },
  {
   "cell_type": "code",
   "execution_count": 120,
   "id": "6fc1fb62",
   "metadata": {},
   "outputs": [],
   "source": [
    "# removes rows where the subject colum has values of Total\n",
    "df2 = df1[df1['CAH_level_subject'].str.contains(\"Total\")==False]"
   ]
  },
  {
   "cell_type": "code",
   "execution_count": 121,
   "id": "fd45dd0f",
   "metadata": {},
   "outputs": [],
   "source": [
    "# filters data down to only where the subject field contains Medicine\n",
    "df3 = df2[df2['CAH_level_subject'].str.contains(\"Medicine\")]"
   ]
  },
  {
   "cell_type": "code",
   "execution_count": 122,
   "id": "cf856dc6",
   "metadata": {},
   "outputs": [],
   "source": [
    "# filters data further to display only undergraduate data \n",
    "df4 = df3[df3['Level_of_qualification'].str.contains(\"All undergraduate\")]"
   ]
  },
  {
   "cell_type": "code",
   "execution_count": 129,
   "id": "8491e850",
   "metadata": {},
   "outputs": [],
   "source": [
    "df4.to_csv('out.csv')"
   ]
  },
  {
   "cell_type": "code",
   "execution_count": null,
   "id": "69cce6bb",
   "metadata": {},
   "outputs": [],
   "source": []
  }
 ],
 "metadata": {
  "kernelspec": {
   "display_name": "Python 3",
   "language": "python",
   "name": "python3"
  },
  "language_info": {
   "codemirror_mode": {
    "name": "ipython",
    "version": 3
   },
   "file_extension": ".py",
   "mimetype": "text/x-python",
   "name": "python",
   "nbconvert_exporter": "python",
   "pygments_lexer": "ipython3",
   "version": "3.8.8"
  }
 },
 "nbformat": 4,
 "nbformat_minor": 5
}
